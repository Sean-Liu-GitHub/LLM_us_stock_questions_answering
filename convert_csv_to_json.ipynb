{
 "cells": [
  {
   "cell_type": "code",
   "execution_count": 8,
   "id": "56142aa2-25b6-4de2-9e1b-3970463b79f8",
   "metadata": {},
   "outputs": [],
   "source": [
    "import pandas as pd\n",
    "import json"
   ]
  },
  {
   "cell_type": "code",
   "execution_count": 12,
   "id": "2796625c-9dbc-4f35-9b4f-677f10cdb668",
   "metadata": {},
   "outputs": [
    {
     "name": "stdout",
     "output_type": "stream",
     "text": [
      "JSON data has been written to documents.json\n"
     ]
    }
   ],
   "source": [
    "# read csv into a dataframe\n",
    "df = pd.read_csv('Financial-QA-10K.csv')\n",
    "\n",
    "# Group by ticker\n",
    "grouped = df.groupby(\"ticker\")\n",
    "\n",
    "# Initialize the list that will contain the final JSON structure\n",
    "json_output = []\n",
    "\n",
    "# Iterate over each group\n",
    "for ticker, group in grouped:\n",
    "    documents = []\n",
    "    \n",
    "    # Iterate over each row in the group\n",
    "    for _, row in group.iterrows():\n",
    "        document = {\n",
    "            \"text\": row[\"answer\"],\n",
    "            \"section\": row[\"filing\"],\n",
    "            \"question\": row[\"question\"]\n",
    "        }\n",
    "        documents.append(document)\n",
    "    \n",
    "    # Construct the final structure for the ticker\n",
    "    json_output.append({\n",
    "        \"ticker\": ticker,\n",
    "        \"documents\": documents\n",
    "    })\n",
    "\n",
    "# Convert the list to a JSON formatted string\n",
    "json_string = json.dumps(json_output, indent=2)\n",
    "\n",
    "# Specify the output file name\n",
    "output_file = 'documents.json'\n",
    "\n",
    "# Write the JSON string to a file\n",
    "with open(output_file, 'w') as file:\n",
    "    file.write(json_string)\n",
    "\n",
    "print(f\"JSON data has been written to {output_file}\")"
   ]
  }
 ],
 "metadata": {
  "kernelspec": {
   "display_name": "Python 3 (ipykernel)",
   "language": "python",
   "name": "python3"
  },
  "language_info": {
   "codemirror_mode": {
    "name": "ipython",
    "version": 3
   },
   "file_extension": ".py",
   "mimetype": "text/x-python",
   "name": "python",
   "nbconvert_exporter": "python",
   "pygments_lexer": "ipython3",
   "version": "3.12.4"
  }
 },
 "nbformat": 4,
 "nbformat_minor": 5
}
